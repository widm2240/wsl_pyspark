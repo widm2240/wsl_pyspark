{
 "cells": [
  {
   "cell_type": "markdown",
   "id": "ea18a47b",
   "metadata": {},
   "source": [
    "## Spark 세션 생성"
   ]
  },
  {
   "cell_type": "code",
   "execution_count": 1,
   "id": "32b61ab6",
   "metadata": {},
   "outputs": [
    {
     "data": {
      "text/html": [
       "\n",
       "            <div>\n",
       "                <p><b>SparkSession - hive</b></p>\n",
       "                \n",
       "        <div>\n",
       "            <p><b>SparkContext</b></p>\n",
       "\n",
       "            <p><a href=\"http://172.27.225.233:4040\">Spark UI</a></p>\n",
       "\n",
       "            <dl>\n",
       "              <dt>Version</dt>\n",
       "                <dd><code>v3.2.2</code></dd>\n",
       "              <dt>Master</dt>\n",
       "                <dd><code>local[*]</code></dd>\n",
       "              <dt>AppName</dt>\n",
       "                <dd><code>PySparkShell</code></dd>\n",
       "            </dl>\n",
       "        </div>\n",
       "        \n",
       "            </div>\n",
       "        "
      ],
      "text/plain": [
       "<pyspark.sql.session.SparkSession at 0x7f55bc0c6040>"
      ]
     },
     "execution_count": 1,
     "metadata": {},
     "output_type": "execute_result"
    }
   ],
   "source": [
    "from pyspark.sql import SparkSession \n",
    "spark = SparkSession.builder.master('local[*]').appName('ml').getOrCreate()\n",
    "spark"
   ]
  },
  {
   "cell_type": "markdown",
   "id": "efc1d752",
   "metadata": {},
   "source": [
    "## 라이브러리 불러오기"
   ]
  },
  {
   "cell_type": "code",
   "execution_count": 2,
   "id": "97dbe371",
   "metadata": {},
   "outputs": [
    {
     "name": "stdout",
     "output_type": "stream",
     "text": [
      "1.23.4\n"
     ]
    }
   ],
   "source": [
    "import numpy as np\n",
    "import pandas as pd \n",
    "import matplotlib as mpl\n",
    "import seaborn as sns \n",
    "import matplotlib.pyplot as plt\n",
    "\n",
    "print(np.__version__)"
   ]
  },
  {
   "cell_type": "markdown",
   "id": "6b3dc98a",
   "metadata": {},
   "source": [
    "## 데이터 불러오기"
   ]
  },
  {
   "cell_type": "code",
   "execution_count": 3,
   "id": "c40a2f0e",
   "metadata": {},
   "outputs": [
    {
     "name": "stdout",
     "output_type": "stream",
     "text": [
      "+---+---+---+-------+------+---+----+------+--------+-----+\n",
      "|mon|dom|dow|carrier|flight|org|mile|depart|duration|delay|\n",
      "+---+---+---+-------+------+---+----+------+--------+-----+\n",
      "| 11| 20|  6|     US|    19|JFK|2153|  9.48|     351| null|\n",
      "|  0| 22|  2|     UA|  1107|ORD| 316| 16.33|      82|   30|\n",
      "|  2| 20|  4|     UA|   226|SFO| 337|  6.17|      82|   -8|\n",
      "|  9| 13|  1|     AA|   419|ORD|1236| 10.33|     195|   -5|\n",
      "|  4|  2|  5|     AA|   325|ORD| 258|  8.92|      65| null|\n",
      "+---+---+---+-------+------+---+----+------+--------+-----+\n",
      "only showing top 5 rows\n",
      "\n"
     ]
    }
   ],
   "source": [
    "flights = spark.read.csv('data/flights.csv', \n",
    "                         sep=',', \n",
    "                         header=True, \n",
    "                         inferSchema=True, \n",
    "                         nullValue = 'NA')\n",
    "\n",
    "flights.show(5)"
   ]
  },
  {
   "cell_type": "markdown",
   "id": "979dd78a",
   "metadata": {},
   "source": [
    "## 머신러닝 주제\n",
    "- 지연시간 예측\n",
    "    + 종속변수 : delay\n",
    "- 데이터의 행/열의 갯수"
   ]
  },
  {
   "cell_type": "code",
   "execution_count": 4,
   "id": "0605271e",
   "metadata": {},
   "outputs": [
    {
     "data": {
      "text/plain": [
       "50000"
      ]
     },
     "execution_count": 4,
     "metadata": {},
     "output_type": "execute_result"
    }
   ],
   "source": [
    "flights.count()"
   ]
  },
  {
   "cell_type": "code",
   "execution_count": 5,
   "id": "0ce7096e",
   "metadata": {},
   "outputs": [
    {
     "data": {
      "text/plain": [
       "10"
      ]
     },
     "execution_count": 5,
     "metadata": {},
     "output_type": "execute_result"
    }
   ],
   "source": [
    "len(flights.columns)"
   ]
  },
  {
   "cell_type": "code",
   "execution_count": 6,
   "id": "ffecebdf",
   "metadata": {},
   "outputs": [
    {
     "data": {
      "text/plain": [
       "[('mon', 'int'),\n",
       " ('dom', 'int'),\n",
       " ('dow', 'int'),\n",
       " ('carrier', 'string'),\n",
       " ('flight', 'int'),\n",
       " ('org', 'string'),\n",
       " ('mile', 'int'),\n",
       " ('depart', 'double'),\n",
       " ('duration', 'int'),\n",
       " ('delay', 'int')]"
      ]
     },
     "execution_count": 6,
     "metadata": {},
     "output_type": "execute_result"
    }
   ],
   "source": [
    "flights.dtypes"
   ]
  },
  {
   "cell_type": "markdown",
   "id": "b19c949b",
   "metadata": {},
   "source": [
    "## 데이터 전처리 & 피처엔지니어링\n",
    "- flight 컬럼 삭제"
   ]
  },
  {
   "cell_type": "code",
   "execution_count": 7,
   "id": "3a98fe60",
   "metadata": {},
   "outputs": [
    {
     "data": {
      "text/plain": [
       "9"
      ]
     },
     "execution_count": 7,
     "metadata": {},
     "output_type": "execute_result"
    }
   ],
   "source": [
    "flights2 = flights.drop('flight')\n",
    "len(flights2.columns)"
   ]
  },
  {
   "cell_type": "code",
   "execution_count": 8,
   "id": "a2ad3071",
   "metadata": {},
   "outputs": [
    {
     "data": {
      "text/plain": [
       "2978"
      ]
     },
     "execution_count": 8,
     "metadata": {},
     "output_type": "execute_result"
    }
   ],
   "source": [
    "flights2.filter('delay IS NULL').count()"
   ]
  },
  {
   "cell_type": "markdown",
   "id": "1bc12bc9",
   "metadata": {},
   "source": [
    "- NA 결측치 삭제"
   ]
  },
  {
   "cell_type": "code",
   "execution_count": 9,
   "id": "eca0ecaa",
   "metadata": {},
   "outputs": [
    {
     "data": {
      "text/plain": [
       "47022"
      ]
     },
     "execution_count": 9,
     "metadata": {},
     "output_type": "execute_result"
    }
   ],
   "source": [
    "flights3 = flights2.filter('delay IS NOT NULL')\n",
    "flights3.count()"
   ]
  },
  {
   "cell_type": "code",
   "execution_count": 10,
   "id": "97f22675",
   "metadata": {},
   "outputs": [
    {
     "data": {
      "text/plain": [
       "47022"
      ]
     },
     "execution_count": 10,
     "metadata": {},
     "output_type": "execute_result"
    }
   ],
   "source": [
    "flights4 = flights3.dropna()\n",
    "flights4.count()"
   ]
  },
  {
   "cell_type": "markdown",
   "id": "140c0ee0",
   "metadata": {},
   "source": [
    "- NA 채우기"
   ]
  },
  {
   "cell_type": "code",
   "execution_count": 11,
   "id": "4139c681",
   "metadata": {},
   "outputs": [
    {
     "name": "stdout",
     "output_type": "stream",
     "text": [
      "+---+---+---+-------+---+----+------+--------+-----+\n",
      "|mon|dom|dow|carrier|org|mile|depart|duration|delay|\n",
      "+---+---+---+-------+---+----+------+--------+-----+\n",
      "| 11| 20|  6|     US|JFK|2153|  9.48|     351|    0|\n",
      "|  0| 22|  2|     UA|ORD| 316| 16.33|      82|   30|\n",
      "|  2| 20|  4|     UA|SFO| 337|  6.17|      82|   -8|\n",
      "|  9| 13|  1|     AA|ORD|1236| 10.33|     195|   -5|\n",
      "|  4|  2|  5|     AA|ORD| 258|  8.92|      65|    0|\n",
      "+---+---+---+-------+---+----+------+--------+-----+\n",
      "only showing top 5 rows\n",
      "\n"
     ]
    }
   ],
   "source": [
    "flights5 = flights2.fillna({'delay' : 0})\n",
    "flights5.show(5)"
   ]
  },
  {
   "cell_type": "code",
   "execution_count": 12,
   "id": "77788c39",
   "metadata": {},
   "outputs": [
    {
     "data": {
      "text/plain": [
       "50000"
      ]
     },
     "execution_count": 12,
     "metadata": {},
     "output_type": "execute_result"
    }
   ],
   "source": [
    "flights5.count()"
   ]
  },
  {
   "cell_type": "markdown",
   "id": "263c3fd0",
   "metadata": {},
   "source": [
    "## 파생변수 만들기\n",
    "- withColumn() 활용해서 새로운 변수를 추가할 것\n",
    "    + 참조 : https://spark.apache.org/docs/3.1.3/api/python/reference/api/pyspark.sql.DataFrame.withColumn.html"
   ]
  },
  {
   "cell_type": "code",
   "execution_count": 15,
   "id": "135cdb0f",
   "metadata": {},
   "outputs": [
    {
     "ename": "AttributeError",
     "evalue": "'DataFrame' object has no attribute 'mile'",
     "output_type": "error",
     "traceback": [
      "\u001b[0;31m---------------------------------------------------------------------------\u001b[0m",
      "\u001b[0;31mAttributeError\u001b[0m                            Traceback (most recent call last)",
      "Cell \u001b[0;32mIn [15], line 5\u001b[0m\n\u001b[1;32m      1\u001b[0m \u001b[38;5;66;03m# mile에서 km로 변경\u001b[39;00m\n\u001b[1;32m      2\u001b[0m \u001b[38;5;66;03m# 1마일 = 1.60934\u001b[39;00m\n\u001b[1;32m      3\u001b[0m \u001b[38;5;28;01mfrom\u001b[39;00m \u001b[38;5;21;01mpyspark\u001b[39;00m\u001b[38;5;21;01m.\u001b[39;00m\u001b[38;5;21;01msql\u001b[39;00m\u001b[38;5;21;01m.\u001b[39;00m\u001b[38;5;21;01mfunctions\u001b[39;00m \u001b[38;5;28;01mimport\u001b[39;00m \u001b[38;5;28mround\u001b[39m\n\u001b[0;32m----> 5\u001b[0m flights5 \u001b[38;5;241m=\u001b[39m flights5\u001b[38;5;241m.\u001b[39mwithColumn(\u001b[38;5;124m'\u001b[39m\u001b[38;5;124mkm\u001b[39m\u001b[38;5;124m'\u001b[39m, \u001b[38;5;28mround\u001b[39m(\u001b[43mflights5\u001b[49m\u001b[38;5;241;43m.\u001b[39;49m\u001b[43mmile\u001b[49m \u001b[38;5;241m*\u001b[39m \u001b[38;5;241m1.60934\u001b[39m, \u001b[38;5;241m0\u001b[39m))\u001b[38;5;241m.\u001b[39mdrop(\u001b[38;5;124m'\u001b[39m\u001b[38;5;124mmile\u001b[39m\u001b[38;5;124m'\u001b[39m)\n\u001b[1;32m      6\u001b[0m flights5\u001b[38;5;241m.\u001b[39mshow(\u001b[38;5;241m5\u001b[39m)\n",
      "File \u001b[0;32m~/spark-3.2.2-bin-hadoop3.2-scala2.13/python/pyspark/sql/dataframe.py:1659\u001b[0m, in \u001b[0;36mDataFrame.__getattr__\u001b[0;34m(self, name)\u001b[0m\n\u001b[1;32m   1649\u001b[0m \u001b[38;5;124;03m\"\"\"Returns the :class:`Column` denoted by ``name``.\u001b[39;00m\n\u001b[1;32m   1650\u001b[0m \n\u001b[1;32m   1651\u001b[0m \u001b[38;5;124;03m.. versionadded:: 1.3.0\u001b[39;00m\n\u001b[0;32m   (...)\u001b[0m\n\u001b[1;32m   1656\u001b[0m \u001b[38;5;124;03m[Row(age=2), Row(age=5)]\u001b[39;00m\n\u001b[1;32m   1657\u001b[0m \u001b[38;5;124;03m\"\"\"\u001b[39;00m\n\u001b[1;32m   1658\u001b[0m \u001b[38;5;28;01mif\u001b[39;00m name \u001b[38;5;129;01mnot\u001b[39;00m \u001b[38;5;129;01min\u001b[39;00m \u001b[38;5;28mself\u001b[39m\u001b[38;5;241m.\u001b[39mcolumns:\n\u001b[0;32m-> 1659\u001b[0m     \u001b[38;5;28;01mraise\u001b[39;00m \u001b[38;5;167;01mAttributeError\u001b[39;00m(\n\u001b[1;32m   1660\u001b[0m         \u001b[38;5;124m\"\u001b[39m\u001b[38;5;124m'\u001b[39m\u001b[38;5;132;01m%s\u001b[39;00m\u001b[38;5;124m'\u001b[39m\u001b[38;5;124m object has no attribute \u001b[39m\u001b[38;5;124m'\u001b[39m\u001b[38;5;132;01m%s\u001b[39;00m\u001b[38;5;124m'\u001b[39m\u001b[38;5;124m\"\u001b[39m \u001b[38;5;241m%\u001b[39m (\u001b[38;5;28mself\u001b[39m\u001b[38;5;241m.\u001b[39m\u001b[38;5;18m__class__\u001b[39m\u001b[38;5;241m.\u001b[39m\u001b[38;5;18m__name__\u001b[39m, name))\n\u001b[1;32m   1661\u001b[0m jc \u001b[38;5;241m=\u001b[39m \u001b[38;5;28mself\u001b[39m\u001b[38;5;241m.\u001b[39m_jdf\u001b[38;5;241m.\u001b[39mapply(name)\n\u001b[1;32m   1662\u001b[0m \u001b[38;5;28;01mreturn\u001b[39;00m Column(jc)\n",
      "\u001b[0;31mAttributeError\u001b[0m: 'DataFrame' object has no attribute 'mile'"
     ]
    }
   ],
   "source": [
    "# mile에서 km로 변경\n",
    "# 1마일 = 1.60934\n",
    "from pyspark.sql.functions import round\n",
    "\n",
    "flights5 = flights5.withColumn('km', round(flights5.mile * 1.60934, 0)).drop('mile')\n",
    "flights5.show(5)"
   ]
  },
  {
   "cell_type": "code",
   "execution_count": 17,
   "id": "8c1e6ec7",
   "metadata": {},
   "outputs": [
    {
     "name": "stdout",
     "output_type": "stream",
     "text": [
      "+---+---+---+-------+---+------+--------+-----+------+\n",
      "|mon|dom|dow|carrier|org|depart|duration|delay|    km|\n",
      "+---+---+---+-------+---+------+--------+-----+------+\n",
      "| 11| 20|  6|     US|JFK|  9.48|     351|    0|3465.0|\n",
      "|  0| 22|  2|     UA|ORD| 16.33|      82|   30| 509.0|\n",
      "|  2| 20|  4|     UA|SFO|  6.17|      82|   -8| 542.0|\n",
      "|  9| 13|  1|     AA|ORD| 10.33|     195|   -5|1989.0|\n",
      "|  4|  2|  5|     AA|ORD|  8.92|      65|    0| 415.0|\n",
      "+---+---+---+-------+---+------+--------+-----+------+\n",
      "only showing top 5 rows\n",
      "\n"
     ]
    }
   ],
   "source": [
    "flights5.show(5)"
   ]
  },
  {
   "cell_type": "code",
   "execution_count": 18,
   "id": "7da43561",
   "metadata": {},
   "outputs": [
    {
     "name": "stdout",
     "output_type": "stream",
     "text": [
      "+---+---+---+-------+---+------+--------+-----+------+-----+\n",
      "|mon|dom|dow|carrier|org|depart|duration|delay|    km|label|\n",
      "+---+---+---+-------+---+------+--------+-----+------+-----+\n",
      "| 11| 20|  6|     US|JFK|  9.48|     351|    0|3465.0|    0|\n",
      "|  0| 22|  2|     UA|ORD| 16.33|      82|   30| 509.0|    1|\n",
      "|  2| 20|  4|     UA|SFO|  6.17|      82|   -8| 542.0|    0|\n",
      "|  9| 13|  1|     AA|ORD| 10.33|     195|   -5|1989.0|    0|\n",
      "|  4|  2|  5|     AA|ORD|  8.92|      65|    0| 415.0|    0|\n",
      "+---+---+---+-------+---+------+--------+-----+------+-----+\n",
      "only showing top 5 rows\n",
      "\n"
     ]
    }
   ],
   "source": [
    "# delay 15 이상\n",
    "flights5 = flights5.withColumn('label', (flights5.delay >= 15).cast('integer'))\n",
    "flights5.show(5)"
   ]
  },
  {
   "cell_type": "markdown",
   "id": "0c7b2d88",
   "metadata": {},
   "source": [
    "- 라벨인코딩\n",
    "    + 참조 : "
   ]
  },
  {
   "cell_type": "code",
   "execution_count": 23,
   "id": "eefd575c",
   "metadata": {},
   "outputs": [
    {
     "name": "stderr",
     "output_type": "stream",
     "text": [
      "                                                                                \r"
     ]
    },
    {
     "name": "stdout",
     "output_type": "stream",
     "text": [
      "+---+---+---+-------+---+------+--------+-----+------+-----+-------------+\n",
      "|mon|dom|dow|carrier|org|depart|duration|delay|    km|label|carrier_index|\n",
      "+---+---+---+-------+---+------+--------+-----+------+-----+-------------+\n",
      "| 11| 20|  6|     US|JFK|  9.48|     351|    0|3465.0|    0|          6.0|\n",
      "|  0| 22|  2|     UA|ORD| 16.33|      82|   30| 509.0|    1|          0.0|\n",
      "|  2| 20|  4|     UA|SFO|  6.17|      82|   -8| 542.0|    0|          0.0|\n",
      "|  9| 13|  1|     AA|ORD| 10.33|     195|   -5|1989.0|    0|          1.0|\n",
      "|  4|  2|  5|     AA|ORD|  8.92|      65|    0| 415.0|    0|          1.0|\n",
      "+---+---+---+-------+---+------+--------+-----+------+-----+-------------+\n",
      "only showing top 5 rows\n",
      "\n"
     ]
    }
   ],
   "source": [
    "from pyspark.ml.feature import StringIndexer\n",
    "\n",
    "indexer = StringIndexer(inputCol = 'carrier', outputCol = 'carrier_index')\n",
    "indexer_model = indexer.fit(flights5)\n",
    "flights6 = indexer_model.transform(flights5)\n",
    "flights6.show(5)"
   ]
  },
  {
   "cell_type": "code",
   "execution_count": 27,
   "id": "66c38f1c",
   "metadata": {},
   "outputs": [
    {
     "name": "stdout",
     "output_type": "stream",
     "text": [
      "+---+---------+\n",
      "|org|org_index|\n",
      "+---+---------+\n",
      "|JFK|      2.0|\n",
      "|ORD|      0.0|\n",
      "|SFO|      1.0|\n",
      "|ORD|      0.0|\n",
      "|ORD|      0.0|\n",
      "+---+---------+\n",
      "only showing top 5 rows\n",
      "\n"
     ]
    }
   ],
   "source": [
    "indexer = StringIndexer(inputCol = 'org', outputCol = 'org_index')\n",
    "indexer_model = indexer.fit(flights6)\n",
    "flights7 = indexer_model.transform(flights6)\n",
    "flights7.select('org', 'org_index').show(5)"
   ]
  },
  {
   "cell_type": "code",
   "execution_count": 26,
   "id": "125ed689",
   "metadata": {},
   "outputs": [
    {
     "name": "stdout",
     "output_type": "stream",
     "text": [
      "+---+---+---+-------+------+---+----+------+--------+-----+\n",
      "|mon|dom|dow|carrier|flight|org|mile|depart|duration|delay|\n",
      "+---+---+---+-------+------+---+----+------+--------+-----+\n",
      "| 11| 20|  6|     US|    19|JFK|2153|  9.48|     351| null|\n",
      "|  0| 22|  2|     UA|  1107|ORD| 316| 16.33|      82|   30|\n",
      "|  2| 20|  4|     UA|   226|SFO| 337|  6.17|      82|   -8|\n",
      "|  9| 13|  1|     AA|   419|ORD|1236| 10.33|     195|   -5|\n",
      "|  4|  2|  5|     AA|   325|ORD| 258|  8.92|      65| null|\n",
      "+---+---+---+-------+------+---+----+------+--------+-----+\n",
      "only showing top 5 rows\n",
      "\n"
     ]
    }
   ],
   "source": []
  },
  {
   "cell_type": "code",
   "execution_count": 28,
   "id": "b08a2227",
   "metadata": {},
   "outputs": [
    {
     "name": "stdout",
     "output_type": "stream",
     "text": [
      "+---+---+---+-------+---+------+--------+-----+------+-----+-------------+---------+-------------+\n",
      "|mon|dom|dow|carrier|org|depart|duration|delay|    km|label|carrier_index|org_index|    org_dummy|\n",
      "+---+---+---+-------+---+------+--------+-----+------+-----+-------------+---------+-------------+\n",
      "| 11| 20|  6|     US|JFK|  9.48|     351|    0|3465.0|    0|          6.0|      2.0|(7,[2],[1.0])|\n",
      "|  0| 22|  2|     UA|ORD| 16.33|      82|   30| 509.0|    1|          0.0|      0.0|(7,[0],[1.0])|\n",
      "|  2| 20|  4|     UA|SFO|  6.17|      82|   -8| 542.0|    0|          0.0|      1.0|(7,[1],[1.0])|\n",
      "|  9| 13|  1|     AA|ORD| 10.33|     195|   -5|1989.0|    0|          1.0|      0.0|(7,[0],[1.0])|\n",
      "|  4|  2|  5|     AA|ORD|  8.92|      65|    0| 415.0|    0|          1.0|      0.0|(7,[0],[1.0])|\n",
      "+---+---+---+-------+---+------+--------+-----+------+-----+-------------+---------+-------------+\n",
      "only showing top 5 rows\n",
      "\n"
     ]
    }
   ],
   "source": [
    "from pyspark.ml.feature import OneHotEncoder\n",
    "\n",
    "onehot = OneHotEncoder(inputCols=['org_index'], outputCols = ['org_dummy'])\n",
    "onehot = onehot.fit(flights7)\n",
    "flights8 = onehot.transform(flights7)\n",
    "flights8.show(5)"
   ]
  },
  {
   "cell_type": "code",
   "execution_count": 29,
   "id": "588d9db4",
   "metadata": {},
   "outputs": [
    {
     "name": "stdout",
     "output_type": "stream",
     "text": [
      "+---+---------+-------------+\n",
      "|org|org_index|    org_dummy|\n",
      "+---+---------+-------------+\n",
      "|ORD|      0.0|(7,[0],[1.0])|\n",
      "|SFO|      1.0|(7,[1],[1.0])|\n",
      "|JFK|      2.0|(7,[2],[1.0])|\n",
      "|LGA|      3.0|(7,[3],[1.0])|\n",
      "|SJC|      4.0|(7,[4],[1.0])|\n",
      "|SMF|      5.0|(7,[5],[1.0])|\n",
      "|TUS|      6.0|(7,[6],[1.0])|\n",
      "|OGG|      7.0|    (7,[],[])|\n",
      "+---+---------+-------------+\n",
      "\n"
     ]
    }
   ],
   "source": [
    "flights8.select('org', 'org_index', 'org_dummy').distinct().sort('org_index').show()"
   ]
  },
  {
   "cell_type": "markdown",
   "id": "c4440bb7",
   "metadata": {},
   "source": [
    "## 벡터화\n",
    "- DataFrame에서 바로 ML 인풋 데이터로 들어가는게 아님"
   ]
  },
  {
   "cell_type": "code",
   "execution_count": 30,
   "id": "51aed2b8",
   "metadata": {},
   "outputs": [],
   "source": [
    "from pyspark.ml.feature import VectorAssembler\n"
   ]
  },
  {
   "cell_type": "code",
   "execution_count": 33,
   "id": "9bc79bf0",
   "metadata": {},
   "outputs": [],
   "source": [
    "assembler = VectorAssembler(inputCols = [\n",
    "    'mon', 'dom', 'dow', 'carrier_index', 'org_index', 'km', 'depart', 'duration'\n",
    "], outputCol = 'features')\n",
    "\n",
    "flights9 = assembler.transform(flights8)"
   ]
  },
  {
   "cell_type": "code",
   "execution_count": 34,
   "id": "6a9dd3ca",
   "metadata": {},
   "outputs": [
    {
     "name": "stdout",
     "output_type": "stream",
     "text": [
      "+-----------------------------------------+-----+\n",
      "|features                                 |delay|\n",
      "+-----------------------------------------+-----+\n",
      "|[11.0,20.0,6.0,6.0,2.0,3465.0,9.48,351.0]|0    |\n",
      "|[0.0,22.0,2.0,0.0,0.0,509.0,16.33,82.0]  |30   |\n",
      "|[2.0,20.0,4.0,0.0,1.0,542.0,6.17,82.0]   |-8   |\n",
      "|[9.0,13.0,1.0,1.0,0.0,1989.0,10.33,195.0]|-5   |\n",
      "|[4.0,2.0,5.0,1.0,0.0,415.0,8.92,65.0]    |0    |\n",
      "+-----------------------------------------+-----+\n",
      "only showing top 5 rows\n",
      "\n"
     ]
    }
   ],
   "source": [
    "flights9.select('features', 'delay').show(5, truncate=False)"
   ]
  },
  {
   "cell_type": "markdown",
   "id": "1467c73d",
   "metadata": {},
   "source": [
    "## 데이터셋 분리"
   ]
  },
  {
   "cell_type": "code",
   "execution_count": 36,
   "id": "12367e48",
   "metadata": {},
   "outputs": [
    {
     "name": "stdout",
     "output_type": "stream",
     "text": [
      "0.79896\n"
     ]
    }
   ],
   "source": [
    "flights_train, flights_test = flights9.randomSplit([0.8, 0.2], seed=42)\n",
    "\n",
    "training_ratio = flights_train.count() / flights.count()\n",
    "print(training_ratio)"
   ]
  },
  {
   "cell_type": "markdown",
   "id": "6a1d7983",
   "metadata": {},
   "source": [
    "## 모형 만들기"
   ]
  },
  {
   "cell_type": "code",
   "execution_count": 38,
   "id": "eef6ddcc",
   "metadata": {},
   "outputs": [
    {
     "name": "stderr",
     "output_type": "stream",
     "text": [
      "22/11/09 10:31:39 WARN Instrumentation: [482d7cf0] regParam is zero, which might cause numerical instability and overfitting.\n"
     ]
    },
    {
     "name": "stdout",
     "output_type": "stream",
     "text": [
      "+-----+------------------+\n",
      "|delay|        prediction|\n",
      "+-----+------------------+\n",
      "|   11|34.930302444682454|\n",
      "|   -9|26.059410033714094|\n",
      "|   31| 42.76433603350965|\n",
      "|   39| 35.34143209866805|\n",
      "|   68|34.906640116747695|\n",
      "+-----+------------------+\n",
      "only showing top 5 rows\n",
      "\n"
     ]
    }
   ],
   "source": [
    "from pyspark.ml.regression import LinearRegression\n",
    "lr_model = LinearRegression(labelCol = 'delay').fit(flights_train)\n",
    "\n",
    "predictions = lr_model.transform(flights_test)\n",
    "predictions.select('delay', 'prediction').show(5)"
   ]
  },
  {
   "cell_type": "code",
   "execution_count": 39,
   "id": "3b8e394e",
   "metadata": {},
   "outputs": [
    {
     "data": {
      "text/plain": [
       "53.532150733253744"
      ]
     },
     "execution_count": 39,
     "metadata": {},
     "output_type": "execute_result"
    }
   ],
   "source": [
    "# RMSE\n",
    "from pyspark.ml.evaluation import RegressionEvaluator\n",
    "RegressionEvaluator(labelCol = 'delay').evaluate(predictions)"
   ]
  },
  {
   "cell_type": "code",
   "execution_count": 40,
   "id": "26f13810",
   "metadata": {},
   "outputs": [
    {
     "data": {
      "text/plain": [
       "4.508734319896046"
      ]
     },
     "execution_count": 40,
     "metadata": {},
     "output_type": "execute_result"
    }
   ],
   "source": [
    "lr_model.intercept"
   ]
  },
  {
   "cell_type": "code",
   "execution_count": 41,
   "id": "01689cb2",
   "metadata": {},
   "outputs": [
    {
     "data": {
      "text/plain": [
       "DenseVector([-0.9057, -0.0164, -0.1998, -0.9834, -2.2976, -0.0077, 1.8449, 0.1211])"
      ]
     },
     "execution_count": 41,
     "metadata": {},
     "output_type": "execute_result"
    }
   ],
   "source": [
    "lr_model.coefficients"
   ]
  },
  {
   "cell_type": "markdown",
   "id": "1441aad5",
   "metadata": {},
   "source": [
    "### 시각화\n",
    "- pandas로 변환 / seaborn & matplotlib"
   ]
  },
  {
   "cell_type": "code",
   "execution_count": null,
   "id": "2b740875",
   "metadata": {},
   "outputs": [],
   "source": []
  }
 ],
 "metadata": {
  "kernelspec": {
   "display_name": "Python 3 (ipykernel)",
   "language": "python",
   "name": "python3"
  },
  "language_info": {
   "codemirror_mode": {
    "name": "ipython",
    "version": 3
   },
   "file_extension": ".py",
   "mimetype": "text/x-python",
   "name": "python",
   "nbconvert_exporter": "python",
   "pygments_lexer": "ipython3",
   "version": "3.8.0"
  }
 },
 "nbformat": 4,
 "nbformat_minor": 5
}
