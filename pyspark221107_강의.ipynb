{
 "cells": [
  {
   "cell_type": "markdown",
   "id": "1c898774",
   "metadata": {},
   "source": [
    "## 라이브러리 불러오기\n",
    "- 버전 확인하자!"
   ]
  },
  {
   "cell_type": "code",
   "execution_count": 3,
   "id": "afb2da1e",
   "metadata": {},
   "outputs": [
    {
     "name": "stdout",
     "output_type": "stream",
     "text": [
      "3.2.0\n",
      "1.23.4\n",
      "1.5.1\n",
      "3.6.2\n",
      "0.12.1\n"
     ]
    }
   ],
   "source": [
    "import pyspark \n",
    "import numpy as np \n",
    "import pandas as pd \n",
    "import matplotlib as mpl \n",
    "import seaborn as sns\n",
    "\n",
    "print(pyspark.__version__)\n",
    "print(np.__version__)\n",
    "print(pd.__version__)\n",
    "print(mpl.__version__)\n",
    "print(sns.__version__)"
   ]
  },
  {
   "cell_type": "markdown",
   "id": "880bb1d3",
   "metadata": {},
   "source": [
    "## 환경설정 필요\n",
    "- 참조 : https://spark.apache.org/docs/latest/configuration.html\n",
    "- 배워야 할 내용, 네트워크 구성부터 시작, 서버 설정 등등, 욕나옴"
   ]
  },
  {
   "cell_type": "code",
   "execution_count": 4,
   "id": "938a3829",
   "metadata": {},
   "outputs": [
    {
     "data": {
      "text/html": [
       "\n",
       "        <div>\n",
       "            <p><b>SparkContext</b></p>\n",
       "\n",
       "            <p><a href=\"http://172.17.34.143:4040\">Spark UI</a></p>\n",
       "\n",
       "            <dl>\n",
       "              <dt>Version</dt>\n",
       "                <dd><code>v3.2.0</code></dd>\n",
       "              <dt>Master</dt>\n",
       "                <dd><code>local[*]</code></dd>\n",
       "              <dt>AppName</dt>\n",
       "                <dd><code>PySparkShell</code></dd>\n",
       "            </dl>\n",
       "        </div>\n",
       "        "
      ],
      "text/plain": [
       "<SparkContext master=local[*] appName=PySparkShell>"
      ]
     },
     "execution_count": 4,
     "metadata": {},
     "output_type": "execute_result"
    }
   ],
   "source": [
    "sc"
   ]
  },
  {
   "cell_type": "code",
   "execution_count": null,
   "id": "42f44bd0",
   "metadata": {},
   "outputs": [],
   "source": [
    "sc.stop()"
   ]
  },
  {
   "cell_type": "markdown",
   "id": "65efaf9b",
   "metadata": {},
   "source": [
    "## 현재 서버 사용자 이름 확인"
   ]
  },
  {
   "cell_type": "code",
   "execution_count": 6,
   "id": "b2a2e645",
   "metadata": {},
   "outputs": [
    {
     "data": {
      "text/plain": [
       "'human'"
      ]
     },
     "execution_count": 6,
     "metadata": {},
     "output_type": "execute_result"
    }
   ],
   "source": [
    "import getpass\n",
    "username = getpass.getuser()\n",
    "username"
   ]
  },
  {
   "cell_type": "markdown",
   "id": "49990a09",
   "metadata": {},
   "source": [
    "## SparkSession\n",
    "- 클러스터에 진입 위한 것"
   ]
  },
  {
   "cell_type": "code",
   "execution_count": 7,
   "id": "61aff828",
   "metadata": {},
   "outputs": [
    {
     "name": "stdout",
     "output_type": "stream",
     "text": [
      "spark version: 3.2.0\n"
     ]
    }
   ],
   "source": [
    "print(\"spark version:\", sc.version)"
   ]
  },
  {
   "cell_type": "code",
   "execution_count": 8,
   "id": "dfaef6d2",
   "metadata": {},
   "outputs": [
    {
     "name": "stdout",
     "output_type": "stream",
     "text": [
      "python version: 3.8\n"
     ]
    }
   ],
   "source": [
    "print(\"python version:\", sc.pythonVer)"
   ]
  },
  {
   "cell_type": "code",
   "execution_count": 10,
   "id": "237bd260",
   "metadata": {},
   "outputs": [
    {
     "name": "stdout",
     "output_type": "stream",
     "text": [
      "Spark Master Name: local[*]\n"
     ]
    }
   ],
   "source": [
    "print(\"Spark Master Name:\", sc.master)"
   ]
  },
  {
   "cell_type": "markdown",
   "id": "86d3da4e",
   "metadata": {},
   "source": [
    "## lambda 함수\n",
    "- 사용자 정의 함수를 1회성으로 쓴다."
   ]
  },
  {
   "cell_type": "code",
   "execution_count": 35,
   "id": "ebbc1a44",
   "metadata": {},
   "outputs": [
    {
     "data": {
      "text/plain": [
       "3"
      ]
     },
     "execution_count": 35,
     "metadata": {},
     "output_type": "execute_result"
    }
   ],
   "source": [
    "def sum(a, b):\n",
    "  c = a + b \n",
    "  return c\n",
    "\n",
    "a = 1\n",
    "b = 2\n",
    "sum(a, b)"
   ]
  },
  {
   "cell_type": "code",
   "execution_count": 36,
   "id": "4e659901",
   "metadata": {},
   "outputs": [
    {
     "data": {
      "text/plain": [
       "105"
      ]
     },
     "execution_count": 36,
     "metadata": {},
     "output_type": "execute_result"
    }
   ],
   "source": [
    "# 어떤 숫자가 들어와도 반드시 5를 더하는 함수\n",
    "def add_five(x):\n",
    "  y = x + 5\n",
    "  return y\n",
    "\n",
    "add_five(100)"
   ]
  },
  {
   "cell_type": "code",
   "execution_count": 37,
   "id": "7e521d72",
   "metadata": {},
   "outputs": [
    {
     "data": {
      "text/plain": [
       "15"
      ]
     },
     "execution_count": 37,
     "metadata": {},
     "output_type": "execute_result"
    }
   ],
   "source": [
    "plus_five = lambda x : x + 5\n",
    "plus_five(10)"
   ]
  },
  {
   "cell_type": "code",
   "execution_count": 39,
   "id": "a1caf431",
   "metadata": {},
   "outputs": [
    {
     "data": {
      "text/plain": [
       "105"
      ]
     },
     "execution_count": 39,
     "metadata": {},
     "output_type": "execute_result"
    }
   ],
   "source": [
    "# 데이터.map(람다함수 식)\n",
    "# 람다 표현식 자체를 호출하기\n",
    "(lambda x: x + 5)(100)"
   ]
  },
  {
   "cell_type": "markdown",
   "id": "1cbed6c1",
   "metadata": {},
   "source": [
    "- 매개변수가 2개일 때 "
   ]
  },
  {
   "cell_type": "code",
   "execution_count": 40,
   "id": "9befa640",
   "metadata": {},
   "outputs": [
    {
     "data": {
      "text/plain": [
       "105"
      ]
     },
     "execution_count": 40,
     "metadata": {},
     "output_type": "execute_result"
    }
   ],
   "source": [
    "# 데이터.map(람다함수 식)\n",
    "# 람다 표현식 자체를 호출하기\n",
    "(lambda x: x + 5)(100)"
   ]
  },
  {
   "cell_type": "markdown",
   "id": "c15dc68f",
   "metadata": {},
   "source": [
    "### 문제 1\n",
    "- 값이 여러개 있는 리스트를 정의 \n",
    "- 각 값에 5를 더하고, 리스트로 반환"
   ]
  },
  {
   "cell_type": "code",
   "execution_count": 41,
   "id": "73c8b008",
   "metadata": {},
   "outputs": [
    {
     "data": {
      "text/plain": [
       "[15, 16, 17]"
      ]
     },
     "execution_count": 41,
     "metadata": {},
     "output_type": "execute_result"
    }
   ],
   "source": [
    "num_values = [10, 11, 12]\n",
    "list(map(add_five, num_values))"
   ]
  },
  {
   "cell_type": "markdown",
   "id": "a1f62692",
   "metadata": {},
   "source": [
    "- lambda를 활용"
   ]
  },
  {
   "cell_type": "code",
   "execution_count": 42,
   "id": "04da7f64",
   "metadata": {},
   "outputs": [
    {
     "data": {
      "text/plain": [
       "[5, 6, 7, 8, 9]"
      ]
     },
     "execution_count": 42,
     "metadata": {},
     "output_type": "execute_result"
    }
   ],
   "source": [
    "list(map(lambda x: x + 5, range(5)))"
   ]
  },
  {
   "cell_type": "markdown",
   "id": "b75273e4",
   "metadata": {},
   "source": [
    "- filter() : 조건식으로 통해 값을 필터링 \n",
    "- 0-9 값 중에서, 5 미만만 출력"
   ]
  },
  {
   "cell_type": "code",
   "execution_count": 43,
   "id": "bacafb95",
   "metadata": {},
   "outputs": [
    {
     "data": {
      "text/plain": [
       "[0, 1, 2, 3, 4, 5, 6, 7, 8, 9]"
      ]
     },
     "execution_count": 43,
     "metadata": {},
     "output_type": "execute_result"
    }
   ],
   "source": [
    "list(range(10))"
   ]
  },
  {
   "cell_type": "code",
   "execution_count": 44,
   "id": "c6949be1",
   "metadata": {},
   "outputs": [
    {
     "data": {
      "text/plain": [
       "[0, 1, 2, 3, 4]"
      ]
     },
     "execution_count": 44,
     "metadata": {},
     "output_type": "execute_result"
    }
   ],
   "source": [
    "list(filter(lambda x: x < 5, range(10)))"
   ]
  },
  {
   "cell_type": "code",
   "execution_count": 45,
   "id": "0f5f44e1",
   "metadata": {},
   "outputs": [
    {
     "data": {
      "text/plain": [
       "[105, 106, 107, 108, 109]"
      ]
     },
     "execution_count": 45,
     "metadata": {},
     "output_type": "execute_result"
    }
   ],
   "source": [
    "list(map(lambda x : x + 105, range(5)))"
   ]
  },
  {
   "cell_type": "markdown",
   "id": "f6d63a18",
   "metadata": {},
   "source": [
    "## RDD\n",
    "- RDD를 배우자! \n",
    "- 새로운 Spark 세션을 만들자. "
   ]
  },
  {
   "cell_type": "code",
   "execution_count": 16,
   "id": "323510a0",
   "metadata": {},
   "outputs": [
    {
     "data": {
      "text/html": [
       "\n",
       "            <div>\n",
       "                <p><b>SparkSession - hive</b></p>\n",
       "                \n",
       "        <div>\n",
       "            <p><b>SparkContext</b></p>\n",
       "\n",
       "            <p><a href=\"http://172.17.34.143:4040\">Spark UI</a></p>\n",
       "\n",
       "            <dl>\n",
       "              <dt>Version</dt>\n",
       "                <dd><code>v3.2.0</code></dd>\n",
       "              <dt>Master</dt>\n",
       "                <dd><code>local[1]</code></dd>\n",
       "              <dt>AppName</dt>\n",
       "                <dd><code>my1stSpark</code></dd>\n",
       "            </dl>\n",
       "        </div>\n",
       "        \n",
       "            </div>\n",
       "        "
      ],
      "text/plain": [
       "<pyspark.sql.session.SparkSession at 0x7f67c9fb5400>"
      ]
     },
     "execution_count": 16,
     "metadata": {},
     "output_type": "execute_result"
    }
   ],
   "source": [
    "from pyspark.sql import SparkSession\n",
    "spark = SparkSession.builder.master(\"local[1]\").appName(\"my1stSpark\").getOrCreate()\n",
    "spark"
   ]
  },
  {
   "cell_type": "markdown",
   "id": "7d7fbf19",
   "metadata": {},
   "source": [
    "- RDD 객체를 생성하자.\n",
    "- 도움말 참조 : https://spark.apache.org/docs/latest/rdd-programming-guide.html"
   ]
  },
  {
   "cell_type": "code",
   "execution_count": 18,
   "id": "0af43b80",
   "metadata": {},
   "outputs": [
    {
     "data": {
      "text/plain": [
       "[1, 2, 3, 4, 5]"
      ]
     },
     "execution_count": 18,
     "metadata": {},
     "output_type": "execute_result"
    }
   ],
   "source": [
    "data = [1, 2, 3, 4, 5]\n",
    "data"
   ]
  },
  {
   "cell_type": "code",
   "execution_count": 20,
   "id": "a2295052",
   "metadata": {},
   "outputs": [
    {
     "name": "stdout",
     "output_type": "stream",
     "text": [
      "<class 'pyspark.rdd.RDD'>\n"
     ]
    }
   ],
   "source": [
    "data = [1, 2, 3, 4, 5]\n",
    "rdd = spark.sparkContext.parallelize(data)\n",
    "print(type(rdd))"
   ]
  },
  {
   "cell_type": "code",
   "execution_count": 26,
   "id": "f40ec415",
   "metadata": {},
   "outputs": [
    {
     "name": "stdout",
     "output_type": "stream",
     "text": [
      "<class 'pyspark.rdd.PipelinedRDD'>\n",
      "PythonRDD[8] at RDD at PythonRDD.scala:53\n"
     ]
    }
   ],
   "source": [
    "num_values = range(1, 101)\n",
    "rdd = spark.sparkContext.parallelize(num_values)\n",
    "print(type(rdd))\n",
    "print(rdd)"
   ]
  },
  {
   "cell_type": "code",
   "execution_count": 25,
   "id": "e3834a0c",
   "metadata": {},
   "outputs": [
    {
     "name": "stdout",
     "output_type": "stream",
     "text": [
      "<class 'pyspark.rdd.RDD'>\n",
      "ParallelCollectionRDD[6] at readRDDFromFile at PythonRDD.scala:274\n"
     ]
    }
   ],
   "source": [
    "np_num_values = np.array([1, 2, 3])\n",
    "rdd = spark.sparkContext.parallelize(np_num_values)\n",
    "print(type(rdd))\n",
    "print(rdd)"
   ]
  },
  {
   "cell_type": "code",
   "execution_count": 27,
   "id": "6501df90",
   "metadata": {},
   "outputs": [
    {
     "name": "stdout",
     "output_type": "stream",
     "text": [
      "<class 'pyspark.rdd.RDD'>\n"
     ]
    }
   ],
   "source": [
    "str_values = [\"A\", \"B\", \"C\"]\n",
    "rdd = spark.sparkContext.parallelize(str_values)\n",
    "print(type(rdd))"
   ]
  },
  {
   "cell_type": "markdown",
   "id": "90eb51ad",
   "metadata": {},
   "source": [
    "## 데이터 가져오기\n",
    "- README.md 파일을 가져오기"
   ]
  },
  {
   "cell_type": "code",
   "execution_count": 31,
   "id": "1caa6fa7",
   "metadata": {},
   "outputs": [
    {
     "name": "stdout",
     "output_type": "stream",
     "text": [
      "The File Type is <class 'pyspark.rdd.RDD'>\n",
      "The File Type is <class 'pyspark.rdd.PipelinedRDD'>\n",
      "PythonRDD[21] at RDD at PythonRDD.scala:53\n",
      "19\n",
      "# Apache Spark\n",
      "Spark is a unified analytics engine for large-scale data processing. It provides\n",
      "rich set of higher-level tools including Spark SQL for SQL and DataFrames,\n",
      "[![PySpark Coverage](https://codecov.io/gh/apache/spark/branch/master/graph/badge.svg)](https://codecov.io/gh/apache/spark)\n"
     ]
    }
   ],
   "source": [
    "file_path = 'data/README.md'\n",
    "fileRDD = spark.sparkContext.textFile(file_path)\n",
    "print(\"The File Type is\", type(fileRDD))\n",
    "\n",
    "# Spark Transformation\n",
    "# filter Spark 글자만 출력한다.\n",
    "fileRDD_filter = fileRDD.filter(lambda line : 'Spark' in line)\n",
    "print(\"The File Type is\", type(fileRDD_filter))\n",
    "print(fileRDD_filter)\n",
    "\n",
    "# Spark Action\n",
    "print(fileRDD_filter.count())\n",
    "for line in fileRDD_filter.take(4):\n",
    "    print(line)"
   ]
  },
  {
   "cell_type": "code",
   "execution_count": 34,
   "id": "48463ef7",
   "metadata": {},
   "outputs": [
    {
     "name": "stdout",
     "output_type": "stream",
     "text": [
      "0\n",
      "1\n",
      "8\n",
      "27\n",
      "64\n",
      "125\n",
      "216\n",
      "343\n",
      "512\n",
      "729\n"
     ]
    }
   ],
   "source": [
    "num_values = range(10)\n",
    "\n",
    "# RDD 생성 \n",
    "num_values = spark.sparkContext.parallelize(num_values)\n",
    "\n",
    "# RDD 트랜스포메이션 생성\n",
    "cubic_values = num_values.map(lambda x : x ** 3)\n",
    "\n",
    "# RDD 액션\n",
    "for num in cubic_values.collect():\n",
    "    print(num)"
   ]
  },
  {
   "cell_type": "markdown",
   "id": "6197ac1e",
   "metadata": {},
   "source": []
  }
 ],
 "metadata": {
  "kernelspec": {
   "display_name": "Python 3 (ipykernel)",
   "language": "python",
   "name": "python3"
  },
  "language_info": {
   "codemirror_mode": {
    "name": "ipython",
    "version": 3
   },
   "file_extension": ".py",
   "mimetype": "text/x-python",
   "name": "python",
   "nbconvert_exporter": "python",
   "pygments_lexer": "ipython3",
   "version": "3.8.0"
  }
 },
 "nbformat": 4,
 "nbformat_minor": 5
}
