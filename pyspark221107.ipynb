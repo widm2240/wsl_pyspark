{
 "cells": [
  {
   "cell_type": "markdown",
   "id": "3c89b3f9",
   "metadata": {},
   "source": [
    "## 라이브러리 불러오기\n",
    "- 버전 확인하자"
   ]
  },
  {
   "cell_type": "code",
   "execution_count": 1,
   "id": "68a16b47",
   "metadata": {},
   "outputs": [
    {
     "name": "stdout",
     "output_type": "stream",
     "text": [
      "3.2.2\n",
      "1.23.4\n",
      "1.5.1\n",
      "3.6.2\n",
      "0.12.1\n"
     ]
    }
   ],
   "source": [
    "import pyspark\n",
    "import numpy as np\n",
    "import pandas as pd\n",
    "import matplotlib as mlp\n",
    "import seaborn as sns\n",
    "\n",
    "print(pyspark.__version__)\n",
    "print(np.__version__)\n",
    "print(pd.__version__)\n",
    "print(mlp.__version__)\n",
    "print(sns.__version__)\n"
   ]
  },
  {
   "cell_type": "markdown",
   "id": "e3a72f14",
   "metadata": {},
   "source": [
    "## 환경설정 필요\n",
    "- 참조 : https://spark.apache.org/docs/latest/configuration.html\n",
    "- 배워야할 내용, 네트워크 구성부터 시작, 서버 설정 등등, 욕나옴"
   ]
  },
  {
   "cell_type": "code",
   "execution_count": 2,
   "id": "61b617d3",
   "metadata": {
    "scrolled": true
   },
   "outputs": [
    {
     "data": {
      "text/html": [
       "\n",
       "        <div>\n",
       "            <p><b>SparkContext</b></p>\n",
       "\n",
       "            <p><a href=\"http://172.27.231.36:4040\">Spark UI</a></p>\n",
       "\n",
       "            <dl>\n",
       "              <dt>Version</dt>\n",
       "                <dd><code>v3.2.2</code></dd>\n",
       "              <dt>Master</dt>\n",
       "                <dd><code>local[*]</code></dd>\n",
       "              <dt>AppName</dt>\n",
       "                <dd><code>PySparkShell</code></dd>\n",
       "            </dl>\n",
       "        </div>\n",
       "        "
      ],
      "text/plain": [
       "<SparkContext master=local[*] appName=PySparkShell>"
      ]
     },
     "execution_count": 2,
     "metadata": {},
     "output_type": "execute_result"
    }
   ],
   "source": [
    "sc"
   ]
  },
  {
   "cell_type": "markdown",
   "id": "36eb75a9",
   "metadata": {},
   "source": [
    "## 현재 서버 사용자 이름 확인"
   ]
  },
  {
   "cell_type": "code",
   "execution_count": 3,
   "id": "4201ea43",
   "metadata": {},
   "outputs": [
    {
     "data": {
      "text/plain": [
       "'human'"
      ]
     },
     "execution_count": 3,
     "metadata": {},
     "output_type": "execute_result"
    }
   ],
   "source": [
    "import getpass\n",
    "username = getpass.getuser()\n",
    "username"
   ]
  },
  {
   "cell_type": "markdown",
   "id": "32300cab",
   "metadata": {},
   "source": [
    "## SparkSession\n",
    "- 클러스터에 진입 위한 것"
   ]
  },
  {
   "cell_type": "code",
   "execution_count": 5,
   "id": "5e9be5c1",
   "metadata": {},
   "outputs": [
    {
     "name": "stdout",
     "output_type": "stream",
     "text": [
      "spark version 3.2.2\n"
     ]
    }
   ],
   "source": [
    "print(\"spark version\", sc.version)"
   ]
  },
  {
   "cell_type": "code",
   "execution_count": 9,
   "id": "de410815",
   "metadata": {},
   "outputs": [
    {
     "name": "stdout",
     "output_type": "stream",
     "text": [
      "python version: 3.8\n"
     ]
    }
   ],
   "source": [
    "print(\"python version:\", sc.pythonVer)"
   ]
  },
  {
   "cell_type": "code",
   "execution_count": 11,
   "id": "d09a1c06",
   "metadata": {},
   "outputs": [
    {
     "name": "stdout",
     "output_type": "stream",
     "text": [
      "Spark Master Name: local[*]\n"
     ]
    }
   ],
   "source": [
    "print(\"Spark Master Name:\", sc.master)"
   ]
  },
  {
   "cell_type": "markdown",
   "id": "b2eeacf3",
   "metadata": {},
   "source": [
    "## lambda 함수\n",
    "- 사용자 정의 함수를 1회성으로 쓴다."
   ]
  },
  {
   "cell_type": "code",
   "execution_count": 13,
   "id": "22877405",
   "metadata": {},
   "outputs": [
    {
     "data": {
      "text/plain": [
       "15"
      ]
     },
     "execution_count": 13,
     "metadata": {},
     "output_type": "execute_result"
    }
   ],
   "source": [
    "(lambda x : x + 5)(10)"
   ]
  },
  {
   "cell_type": "code",
   "execution_count": 15,
   "id": "0ca03758",
   "metadata": {},
   "outputs": [
    {
     "data": {
      "text/plain": [
       "[105, 106, 107, 108, 109]"
      ]
     },
     "execution_count": 15,
     "metadata": {},
     "output_type": "execute_result"
    }
   ],
   "source": [
    "list(map(lambda x : x + 105, range(5)))"
   ]
  },
  {
   "cell_type": "code",
   "execution_count": 16,
   "id": "c79680c1",
   "metadata": {},
   "outputs": [],
   "source": [
    "sc.stop()"
   ]
  },
  {
   "cell_type": "markdown",
   "id": "9ae4ac73",
   "metadata": {},
   "source": [
    "## RDD\n",
    "- RDD를 배우자!\n",
    "- 새로운 Spark 세션을 만들자."
   ]
  },
  {
   "cell_type": "code",
   "execution_count": 18,
   "id": "4ca3966d",
   "metadata": {},
   "outputs": [
    {
     "data": {
      "text/html": [
       "\n",
       "            <div>\n",
       "                <p><b>SparkSession - hive</b></p>\n",
       "                \n",
       "        <div>\n",
       "            <p><b>SparkContext</b></p>\n",
       "\n",
       "            <p><a href=\"http://172.27.231.36:4040\">Spark UI</a></p>\n",
       "\n",
       "            <dl>\n",
       "              <dt>Version</dt>\n",
       "                <dd><code>v3.2.2</code></dd>\n",
       "              <dt>Master</dt>\n",
       "                <dd><code>local[1]</code></dd>\n",
       "              <dt>AppName</dt>\n",
       "                <dd><code>my1stSpark</code></dd>\n",
       "            </dl>\n",
       "        </div>\n",
       "        \n",
       "            </div>\n",
       "        "
      ],
      "text/plain": [
       "<pyspark.sql.session.SparkSession at 0x7f88795560a0>"
      ]
     },
     "execution_count": 18,
     "metadata": {},
     "output_type": "execute_result"
    }
   ],
   "source": [
    "from pyspark.sql import SparkSession\n",
    "spark = SparkSession.builder.master(\"local[1]\").appName(\"my1stSpark\").getOrCreate()\n",
    "spark"
   ]
  },
  {
   "cell_type": "markdown",
   "id": "2891f2c8",
   "metadata": {},
   "source": [
    "- RDD 객체를 생성하자.\n",
    "- 도움말 참조 : https://spark.apache.org/docs/latest/rdd-programming-guide.html"
   ]
  },
  {
   "cell_type": "code",
   "execution_count": 21,
   "id": "4cd45bf9",
   "metadata": {},
   "outputs": [
    {
     "data": {
      "text/plain": [
       "[1, 2, 3, 4, 5]"
      ]
     },
     "execution_count": 21,
     "metadata": {},
     "output_type": "execute_result"
    }
   ],
   "source": [
    "data = [1, 2, 3, 4, 5]\n",
    "data"
   ]
  },
  {
   "cell_type": "code",
   "execution_count": 24,
   "id": "77bbc2ee",
   "metadata": {},
   "outputs": [
    {
     "name": "stdout",
     "output_type": "stream",
     "text": [
      "<class 'pyspark.rdd.RDD'>\n"
     ]
    }
   ],
   "source": [
    "data = [1, 2, 3, 4, 5]\n",
    "rdd = spark.sparkContext.parallelize(data)\n",
    "print(type(rdd))"
   ]
  },
  {
   "cell_type": "code",
   "execution_count": 26,
   "id": "8dc2d4f0",
   "metadata": {},
   "outputs": [
    {
     "data": {
      "text/plain": [
       "[1,\n",
       " 2,\n",
       " 3,\n",
       " 4,\n",
       " 5,\n",
       " 6,\n",
       " 7,\n",
       " 8,\n",
       " 9,\n",
       " 10,\n",
       " 11,\n",
       " 12,\n",
       " 13,\n",
       " 14,\n",
       " 15,\n",
       " 16,\n",
       " 17,\n",
       " 18,\n",
       " 19,\n",
       " 20,\n",
       " 21,\n",
       " 22,\n",
       " 23,\n",
       " 24,\n",
       " 25,\n",
       " 26,\n",
       " 27,\n",
       " 28,\n",
       " 29,\n",
       " 30,\n",
       " 31,\n",
       " 32,\n",
       " 33,\n",
       " 34,\n",
       " 35,\n",
       " 36,\n",
       " 37,\n",
       " 38,\n",
       " 39,\n",
       " 40,\n",
       " 41,\n",
       " 42,\n",
       " 43,\n",
       " 44,\n",
       " 45,\n",
       " 46,\n",
       " 47,\n",
       " 48,\n",
       " 49,\n",
       " 50,\n",
       " 51,\n",
       " 52,\n",
       " 53,\n",
       " 54,\n",
       " 55,\n",
       " 56,\n",
       " 57,\n",
       " 58,\n",
       " 59,\n",
       " 60,\n",
       " 61,\n",
       " 62,\n",
       " 63,\n",
       " 64,\n",
       " 65,\n",
       " 66,\n",
       " 67,\n",
       " 68,\n",
       " 69,\n",
       " 70,\n",
       " 71,\n",
       " 72,\n",
       " 73,\n",
       " 74,\n",
       " 75,\n",
       " 76,\n",
       " 77,\n",
       " 78,\n",
       " 79,\n",
       " 80,\n",
       " 81,\n",
       " 82,\n",
       " 83,\n",
       " 84,\n",
       " 85,\n",
       " 86,\n",
       " 87,\n",
       " 88,\n",
       " 89,\n",
       " 90,\n",
       " 91,\n",
       " 92,\n",
       " 93,\n",
       " 94,\n",
       " 95,\n",
       " 96,\n",
       " 97,\n",
       " 98,\n",
       " 99,\n",
       " 100]"
      ]
     },
     "execution_count": 26,
     "metadata": {},
     "output_type": "execute_result"
    }
   ],
   "source": [
    "num_values = range(1, 101)\n",
    "list(num_values)"
   ]
  },
  {
   "cell_type": "code",
   "execution_count": 35,
   "id": "a38d0dd8",
   "metadata": {},
   "outputs": [
    {
     "name": "stdout",
     "output_type": "stream",
     "text": [
      "<class 'pyspark.rdd.PipelinedRDD'>\n",
      "PythonRDD[13] at RDD at PythonRDD.scala:53\n"
     ]
    }
   ],
   "source": [
    "num_values = range(1, 101)\n",
    "rdd = spark.sparkContext.parallelize(num_values)\n",
    "print(type(rdd))\n",
    "print(rdd)"
   ]
  },
  {
   "cell_type": "code",
   "execution_count": 34,
   "id": "89f3ff15",
   "metadata": {},
   "outputs": [
    {
     "name": "stdout",
     "output_type": "stream",
     "text": [
      "<class 'pyspark.rdd.RDD'>\n",
      "ParallelCollectionRDD[11] at readRDDFromFile at PythonRDD.scala:274\n"
     ]
    }
   ],
   "source": [
    "np_num_values = np.array([1, 2, 3])\n",
    "rdd = spark.sparkContext.parallelize(np_num_values)\n",
    "print(type(rdd))\n",
    "print(rdd)"
   ]
  },
  {
   "cell_type": "code",
   "execution_count": 36,
   "id": "58135455",
   "metadata": {},
   "outputs": [
    {
     "name": "stdout",
     "output_type": "stream",
     "text": [
      "<class 'pyspark.rdd.RDD'>\n"
     ]
    }
   ],
   "source": [
    "str_values = [\"A\", \"B\", \"C\"]\n",
    "rdd = spark.sparkContext.parallelize(str_values)\n",
    "print(type(rdd))"
   ]
  },
  {
   "cell_type": "markdown",
   "id": "922944a6",
   "metadata": {},
   "source": [
    "## 데이터 가져오기\n",
    "- README.md 파일을 가져오기"
   ]
  },
  {
   "cell_type": "code",
   "execution_count": 41,
   "id": "2c807dc6",
   "metadata": {},
   "outputs": [
    {
     "name": "stdout",
     "output_type": "stream",
     "text": [
      "The File Type is <class 'pyspark.rdd.RDD'>\n",
      "The File Type is <class 'pyspark.rdd.PipelinedRDD'>\n",
      "PythonRDD[31] at RDD at PythonRDD.scala:53\n",
      "19\n",
      "# Apache Spark\n",
      "Spark is a unified analytics engine for large-scale data processing. It provides\n",
      "rich set of higher-level tools including Spark SQL for SQL and DataFrames,\n",
      "[![PySpark Coverage](https://codecov.io/gh/apache/spark/branch/master/graph/badge.svg)](https://codecov.io/gh/apache/spark)\n"
     ]
    }
   ],
   "source": [
    "file_path = 'data/README.md'\n",
    "fileRDD = spark.sparkContext.textFile(file_path)\n",
    "print(\"The File Type is\", type(fileRDD))\n",
    "\n",
    "# Spark Transformation\n",
    "# filter Spark 글자만 출력한다.\n",
    "\n",
    "fileRDD_filter = fileRDD.filter(lambda line : 'Spark' in line)\n",
    "print(\"The File Type is\", type(fileRDD_filter))\n",
    "print(fileRDD_filter)\n",
    "\n",
    "# Spark Action 이게 없다면 출력이 안된다\n",
    "print(fileRDD_filter.count())\n",
    "\n",
    "# Spark 가 나오는 라인을 표기한 것 (소문자는 생략)\n",
    "for line in fileRDD_filter.take(4):\n",
    "    print(line)"
   ]
  },
  {
   "cell_type": "code",
   "execution_count": 50,
   "id": "cb1f1d72",
   "metadata": {},
   "outputs": [
    {
     "name": "stdout",
     "output_type": "stream",
     "text": [
      "0\n",
      "1\n",
      "8\n",
      "27\n",
      "64\n",
      "125\n",
      "216\n",
      "343\n",
      "512\n",
      "729\n"
     ]
    }
   ],
   "source": [
    "num_values = range(10)\n",
    "# RDD 생성\n",
    "num_values = spark.sparkContext.parallelize(num_values)\n",
    "\n",
    "# RDD 트랜스포메이션 생성\n",
    "cubic_values = num_values.map(lambda x : x ** 3)\n",
    "\n",
    "# RDD 액션\n",
    "for num in cubic_values.collect():\n",
    "    print(num)"
   ]
  },
  {
   "cell_type": "markdown",
   "id": "24258b9c",
   "metadata": {},
   "source": []
  }
 ],
 "metadata": {
  "kernelspec": {
   "display_name": "Python 3 (ipykernel)",
   "language": "python",
   "name": "python3"
  },
  "language_info": {
   "codemirror_mode": {
    "name": "ipython",
    "version": 3
   },
   "file_extension": ".py",
   "mimetype": "text/x-python",
   "name": "python",
   "nbconvert_exporter": "python",
   "pygments_lexer": "ipython3",
   "version": "3.8.0"
  }
 },
 "nbformat": 4,
 "nbformat_minor": 5
}
