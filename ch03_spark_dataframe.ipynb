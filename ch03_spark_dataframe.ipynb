{
 "cells": [
  {
   "cell_type": "markdown",
   "id": "cbc324c7",
   "metadata": {},
   "source": [
    "## 라이브러리 불러오기\n",
    "- spark 세션 활성화"
   ]
  },
  {
   "cell_type": "code",
   "execution_count": 3,
   "id": "1bbc04a9",
   "metadata": {},
   "outputs": [
    {
     "data": {
      "text/html": [
       "\n",
       "            <div>\n",
       "                <p><b>SparkSession - hive</b></p>\n",
       "                \n",
       "        <div>\n",
       "            <p><b>SparkContext</b></p>\n",
       "\n",
       "            <p><a href=\"http://172.27.229.5:4040\">Spark UI</a></p>\n",
       "\n",
       "            <dl>\n",
       "              <dt>Version</dt>\n",
       "                <dd><code>v3.2.2</code></dd>\n",
       "              <dt>Master</dt>\n",
       "                <dd><code>local[*]</code></dd>\n",
       "              <dt>AppName</dt>\n",
       "                <dd><code>PySparkShell</code></dd>\n",
       "            </dl>\n",
       "        </div>\n",
       "        \n",
       "            </div>\n",
       "        "
      ],
      "text/plain": [
       "<pyspark.sql.session.SparkSession at 0x7f6310a86040>"
      ]
     },
     "execution_count": 3,
     "metadata": {},
     "output_type": "execute_result"
    }
   ],
   "source": [
    "from pyspark.sql import SparkSession\n",
    "\n",
    "# 스파크 세션을 활성화한다.\n",
    "spark = SparkSession.builder.master('local[2]').appName('DF').getOrCreate()\n",
    "spark"
   ]
  },
  {
   "cell_type": "markdown",
   "id": "f54453de",
   "metadata": {},
   "source": [
    "## 데이터 프레임 생성\n",
    "- pairRDD 형태를 스파크 데이터프레임으로 생성\n",
    "- 스파크 데이터프레임 != 판다스 데이터프레임\n",
    "- 스파크 <---> 판다스\n",
    "- 참고 : https://spark.apache.org/docs/3.2.0/api/python/getting_started/quickstart_df.html"
   ]
  },
  {
   "cell_type": "code",
   "execution_count": 6,
   "id": "48854592",
   "metadata": {},
   "outputs": [
    {
     "name": "stdout",
     "output_type": "stream",
     "text": [
      "[('김길동', 25), ('홍길동', 30), ('John', 20), ('Jim', 30)]\n",
      "DataFrame[Name: string, Age: bigint]\n",
      "<class 'pyspark.sql.dataframe.DataFrame'>\n"
     ]
    }
   ],
   "source": [
    "pairRDD = [('김길동', 25), ('홍길동', 30), ('John', 20), ('Jim', 30)]\n",
    "print(pairRDD)\n",
    "temp_df = spark.createDataFrame(pairRDD, schema = ['Name', 'Age'])\n",
    "print(temp_df)\n",
    "print(type(temp_df))"
   ]
  },
  {
   "cell_type": "code",
   "execution_count": 9,
   "id": "03595cf6",
   "metadata": {},
   "outputs": [
    {
     "name": "stdout",
     "output_type": "stream",
     "text": [
      "DataFrame[Name: string, Age: bigint]\n",
      "<class 'pyspark.sql.dataframe.DataFrame'>\n"
     ]
    }
   ],
   "source": [
    "col_names = ['Name', 'Age']\n",
    "\n",
    "temp_df2 = spark.createDataFrame(pairRDD, schema = col_names)\n",
    "print(temp_df2)\n",
    "print(type(temp_df2))"
   ]
  },
  {
   "cell_type": "code",
   "execution_count": 10,
   "id": "c0247b61",
   "metadata": {},
   "outputs": [
    {
     "name": "stderr",
     "output_type": "stream",
     "text": [
      "\r",
      "[Stage 0:>                                                          (0 + 1) / 1]\r"
     ]
    },
    {
     "name": "stdout",
     "output_type": "stream",
     "text": [
      "+------+---+\n",
      "|  Name|Age|\n",
      "+------+---+\n",
      "|김길동| 25|\n",
      "|홍길동| 30|\n",
      "|  John| 20|\n",
      "|   Jim| 30|\n",
      "+------+---+\n",
      "\n"
     ]
    },
    {
     "name": "stderr",
     "output_type": "stream",
     "text": [
      "\r",
      "                                                                                \r"
     ]
    }
   ],
   "source": [
    "temp_df2.show()"
   ]
  },
  {
   "cell_type": "markdown",
   "id": "08edb373",
   "metadata": {},
   "source": [
    "## 데이터 불러오기\n",
    "- 외부 csv파일 불러오기"
   ]
  },
  {
   "cell_type": "code",
   "execution_count": 11,
   "id": "7e07dfdc",
   "metadata": {},
   "outputs": [
    {
     "name": "stdout",
     "output_type": "stream",
     "text": [
      "+---+---------+--------------+------+-------------+\n",
      "|_c0|person_id|          name|   sex|date of birth|\n",
      "+---+---------+--------------+------+-------------+\n",
      "|  0|      100|Penelope Lewis|female|   1990-08-31|\n",
      "|  1|      101| David Anthony|  male|   1971-10-14|\n",
      "|  2|      102|     Ida Shipp|female|   1962-05-24|\n",
      "|  3|      103|  Joanna Moore|female|   2017-03-10|\n",
      "|  4|      104|Lisandra Ortiz|female|   2020-08-05|\n",
      "+---+---------+--------------+------+-------------+\n",
      "only showing top 5 rows\n",
      "\n"
     ]
    },
    {
     "name": "stderr",
     "output_type": "stream",
     "text": [
      "22/11/08 14:11:53 WARN CSVHeaderChecker: CSV header does not conform to the schema.\n",
      " Header: , person_id, name, sex, date of birth\n",
      " Schema: _c0, person_id, name, sex, date of birth\n",
      "Expected: _c0 but found: \n",
      "CSV file: file:///home/human/wsl_pyspark/data/people.csv\n"
     ]
    }
   ],
   "source": [
    "DATA_PATH = 'data/people.csv'\n",
    "\n",
    "# 스파크 데이터프레임 생성\n",
    "ppl_df = spark.read.csv(DATA_PATH, header=True, inferSchema=True)\n",
    "ppl_df.show(5)"
   ]
  },
  {
   "cell_type": "markdown",
   "id": "aee2472e",
   "metadata": {},
   "source": [
    "- 행의 갯수 파악"
   ]
  },
  {
   "cell_type": "code",
   "execution_count": 12,
   "id": "42d69d85",
   "metadata": {},
   "outputs": [
    {
     "data": {
      "text/plain": [
       "100000"
      ]
     },
     "execution_count": 12,
     "metadata": {},
     "output_type": "execute_result"
    }
   ],
   "source": [
    "ppl_df.count()"
   ]
  },
  {
   "cell_type": "markdown",
   "id": "cc58418c",
   "metadata": {},
   "source": [
    "- 컬럼갯수 및 컬럼명 추출"
   ]
  },
  {
   "cell_type": "code",
   "execution_count": 14,
   "id": "56b1eca8",
   "metadata": {},
   "outputs": [
    {
     "name": "stdout",
     "output_type": "stream",
     "text": [
      "5\n",
      "['_c0', 'person_id', 'name', 'sex', 'date of birth']\n"
     ]
    }
   ],
   "source": [
    "print(len(ppl_df.columns))\n",
    "print(ppl_df.columns)"
   ]
  },
  {
   "cell_type": "markdown",
   "id": "0d5dad26",
   "metadata": {},
   "source": [
    "## 데이터 핸들링\n",
    "- 특정 컬럼 추출"
   ]
  },
  {
   "cell_type": "code",
   "execution_count": 16,
   "id": "0f891c07",
   "metadata": {},
   "outputs": [
    {
     "name": "stdout",
     "output_type": "stream",
     "text": [
      "+--------------+------+-------------+\n",
      "|          name|   sex|date of birth|\n",
      "+--------------+------+-------------+\n",
      "|Penelope Lewis|female|   1990-08-31|\n",
      "| David Anthony|  male|   1971-10-14|\n",
      "|     Ida Shipp|female|   1962-05-24|\n",
      "|  Joanna Moore|female|   2017-03-10|\n",
      "|Lisandra Ortiz|female|   2020-08-05|\n",
      "+--------------+------+-------------+\n",
      "only showing top 5 rows\n",
      "\n"
     ]
    }
   ],
   "source": [
    "ppl_df_2 = ppl_df.select('name', 'sex', 'date of birth')\n",
    "ppl_df_2.show(5)"
   ]
  },
  {
   "cell_type": "markdown",
   "id": "a1dfe0c7",
   "metadata": {},
   "source": [
    "- 중복값 제거"
   ]
  },
  {
   "cell_type": "code",
   "execution_count": 17,
   "id": "b3690835",
   "metadata": {},
   "outputs": [
    {
     "data": {
      "text/plain": [
       "100000"
      ]
     },
     "execution_count": 17,
     "metadata": {},
     "output_type": "execute_result"
    }
   ],
   "source": [
    "ppl_df_2.count()"
   ]
  },
  {
   "cell_type": "code",
   "execution_count": 18,
   "id": "a35f2c5d",
   "metadata": {},
   "outputs": [
    {
     "data": {
      "text/plain": [
       "99998"
      ]
     },
     "execution_count": 18,
     "metadata": {},
     "output_type": "execute_result"
    }
   ],
   "source": [
    "ppl_df_3 = ppl_df_2.dropDuplicates()\n",
    "ppl_df_3.count()"
   ]
  },
  {
   "cell_type": "markdown",
   "id": "facebe85",
   "metadata": {},
   "source": [
    "- 행 추출(filter)\n"
   ]
  },
  {
   "cell_type": "code",
   "execution_count": 19,
   "id": "0bd2c3f3",
   "metadata": {},
   "outputs": [
    {
     "data": {
      "text/plain": [
       "(49065, 49013)"
      ]
     },
     "execution_count": 19,
     "metadata": {},
     "output_type": "execute_result"
    }
   ],
   "source": [
    "# 성별로 구분\n",
    "male_df = ppl_df_3.filter(ppl_df_3.sex == 'male')\n",
    "female_df = ppl_df_3.filter(ppl_df_3.sex == 'female')\n",
    "male_df.count(), female_df.count()"
   ]
  },
  {
   "cell_type": "markdown",
   "id": "33b2292f",
   "metadata": {},
   "source": [
    "## Spark SQL\n",
    "- 임시 테이블을 생성"
   ]
  },
  {
   "cell_type": "code",
   "execution_count": 20,
   "id": "261f6963",
   "metadata": {},
   "outputs": [],
   "source": [
    "# Spark 세션에 people 테이블로 저장\n",
    "ppl_df_3.createOrReplaceTempView('people')"
   ]
  },
  {
   "cell_type": "code",
   "execution_count": 22,
   "id": "fa4d7871",
   "metadata": {},
   "outputs": [
    {
     "name": "stdout",
     "output_type": "stream",
     "text": [
      "+-----------------+\n",
      "|             name|\n",
      "+-----------------+\n",
      "|      Robert Fort|\n",
      "|    Robert Wright|\n",
      "|     Ollie Watson|\n",
      "|      Todd Noland|\n",
      "| Brandon Lawrence|\n",
      "|     Bobbie Clark|\n",
      "|    Clifton Negri|\n",
      "|        Dina Katz|\n",
      "|Lillian Whitfield|\n",
      "|    Manuel Castro|\n",
      "+-----------------+\n",
      "only showing top 10 rows\n",
      "\n"
     ]
    }
   ],
   "source": [
    "query = '''\n",
    "    SELECT name FROM people\n",
    "'''\n",
    "\n",
    "# 쿼리\n",
    "sql_names = spark.sql(query)\n",
    "sql_names.show(10)"
   ]
  },
  {
   "cell_type": "code",
   "execution_count": 24,
   "id": "af7f22a0",
   "metadata": {},
   "outputs": [
    {
     "data": {
      "text/plain": [
       "(49065, 49065)"
      ]
     },
     "execution_count": 24,
     "metadata": {},
     "output_type": "execute_result"
    }
   ],
   "source": [
    "query = '''\n",
    "    SELECT * FROM people WHERE sex == \"male\"\n",
    "'''\n",
    "\n",
    "# 쿼리\n",
    "\n",
    "sql_male_df = spark.sql(query)\n",
    "sql_male_df.count(), male_df.count()"
   ]
  },
  {
   "cell_type": "markdown",
   "id": "6b2f692e",
   "metadata": {},
   "source": [
    "## 업그레이드 된 Spark DataFrame"
   ]
  },
  {
   "cell_type": "code",
   "execution_count": 27,
   "id": "b3ceb908",
   "metadata": {},
   "outputs": [
    {
     "data": {
      "text/plain": [
       "5000"
      ]
     },
     "execution_count": 27,
     "metadata": {},
     "output_type": "execute_result"
    }
   ],
   "source": [
    "DATA_PATH = 'data/Real_Estate.csv'\n",
    "\n",
    "# 스파크 데이터프레임 생성\n",
    "real_estate = spark.read.csv(DATA_PATH, header=True, inferSchema = True)\n",
    "# real_estate.show\n",
    "real_estate.count()"
   ]
  },
  {
   "cell_type": "code",
   "execution_count": 29,
   "id": "090db23a",
   "metadata": {},
   "outputs": [
    {
     "data": {
      "text/plain": [
       "74"
      ]
     },
     "execution_count": 29,
     "metadata": {},
     "output_type": "execute_result"
    }
   ],
   "source": [
    "len(real_estate.columns)"
   ]
  },
  {
   "cell_type": "markdown",
   "id": "035a8a55",
   "metadata": {},
   "source": [
    "- real_estate 컬럼 값 출력"
   ]
  },
  {
   "cell_type": "code",
   "execution_count": 30,
   "id": "214703aa",
   "metadata": {},
   "outputs": [
    {
     "name": "stdout",
     "output_type": "stream",
     "text": [
      "['No.', 'MLSID', 'StreetNumberNumeric', 'streetaddress', 'STREETNAME', 'PostalCode', 'StateOrProvince', 'City', 'SalesClosePrice', 'LISTDATE', 'LISTPRICE', 'LISTTYPE', 'OriginalListPrice', 'PricePerTSFT', 'FOUNDATIONSIZE', 'FENCE', 'MapLetter', 'LotSizeDimensions', 'SchoolDistrictNumber', 'DAYSONMARKET', 'offmarketdate', 'Fireplaces', 'RoomArea4', 'roomtype', 'ROOF', 'RoomFloor4', 'PotentialShortSale', 'PoolDescription', 'PDOM', 'GarageDescription', 'SQFTABOVEGROUND', 'Taxes', 'RoomFloor1', 'RoomArea1', 'TAXWITHASSESSMENTS', 'TAXYEAR', 'LivingArea', 'UNITNUMBER', 'YEARBUILT', 'ZONING', 'STYLE', 'ACRES', 'CoolingDescription', 'APPLIANCES', 'backonmarketdate', 'ROOMFAMILYCHAR', 'RoomArea3', 'EXTERIOR', 'RoomFloor3', 'RoomFloor2', 'RoomArea2', 'DiningRoomDescription', 'BASEMENT', 'BathsFull', 'BathsHalf', 'BATHQUARTER', 'BATHSTHREEQUARTER', 'Class', 'BATHSTOTAL', 'BATHDESC', 'RoomArea5', 'RoomFloor5', 'RoomArea6', 'RoomFloor6', 'RoomArea7', 'RoomFloor7', 'RoomArea8', 'RoomFloor8', 'Bedrooms', 'SQFTBELOWGROUND', 'AssumableMortgage', 'AssociationFee', 'ASSESSMENTPENDING', 'AssessedValuation']\n"
     ]
    }
   ],
   "source": [
    "print(real_estate.columns)"
   ]
  },
  {
   "cell_type": "code",
   "execution_count": 32,
   "id": "a68fcd63",
   "metadata": {},
   "outputs": [
    {
     "name": "stdout",
     "output_type": "stream",
     "text": [
      "+---------------+\n",
      "|SalesClosePrice|\n",
      "+---------------+\n",
      "|         143000|\n",
      "|         190000|\n",
      "|         225000|\n",
      "|         265000|\n",
      "|         249900|\n",
      "+---------------+\n",
      "only showing top 5 rows\n",
      "\n"
     ]
    }
   ],
   "source": [
    "y_df = real_estate.select(['SalesClosePrice'])\n",
    "y_df.show(5)"
   ]
  },
  {
   "cell_type": "markdown",
   "id": "98c250ae",
   "metadata": {},
   "source": [
    "- 기술통계량"
   ]
  },
  {
   "cell_type": "code",
   "execution_count": 33,
   "id": "88d02887",
   "metadata": {},
   "outputs": [
    {
     "name": "stdout",
     "output_type": "stream",
     "text": [
      "+-------+------------------+\n",
      "|summary|   SalesClosePrice|\n",
      "+-------+------------------+\n",
      "|  count|              5000|\n",
      "|   mean|       262804.4668|\n",
      "| stddev|140559.82591998563|\n",
      "|    min|             48000|\n",
      "|    max|           1700000|\n",
      "+-------+------------------+\n",
      "\n"
     ]
    }
   ],
   "source": [
    "y_df.describe().show()"
   ]
  },
  {
   "cell_type": "code",
   "execution_count": 34,
   "id": "eb4ae3ce",
   "metadata": {},
   "outputs": [
    {
     "name": "stdout",
     "output_type": "stream",
     "text": [
      "[('No.', 'int'), ('MLSID', 'string'), ('StreetNumberNumeric', 'int'), ('streetaddress', 'string'), ('STREETNAME', 'string'), ('PostalCode', 'int'), ('StateOrProvince', 'string'), ('City', 'string'), ('SalesClosePrice', 'int'), ('LISTDATE', 'string'), ('LISTPRICE', 'int'), ('LISTTYPE', 'string'), ('OriginalListPrice', 'int'), ('PricePerTSFT', 'double'), ('FOUNDATIONSIZE', 'int'), ('FENCE', 'string'), ('MapLetter', 'string'), ('LotSizeDimensions', 'string'), ('SchoolDistrictNumber', 'string'), ('DAYSONMARKET', 'int'), ('offmarketdate', 'string'), ('Fireplaces', 'int'), ('RoomArea4', 'string'), ('roomtype', 'string'), ('ROOF', 'string'), ('RoomFloor4', 'string'), ('PotentialShortSale', 'string'), ('PoolDescription', 'string'), ('PDOM', 'int'), ('GarageDescription', 'string'), ('SQFTABOVEGROUND', 'int'), ('Taxes', 'int'), ('RoomFloor1', 'string'), ('RoomArea1', 'string'), ('TAXWITHASSESSMENTS', 'double'), ('TAXYEAR', 'int'), ('LivingArea', 'int'), ('UNITNUMBER', 'string'), ('YEARBUILT', 'int'), ('ZONING', 'string'), ('STYLE', 'string'), ('ACRES', 'double'), ('CoolingDescription', 'string'), ('APPLIANCES', 'string'), ('backonmarketdate', 'string'), ('ROOMFAMILYCHAR', 'string'), ('RoomArea3', 'string'), ('EXTERIOR', 'string'), ('RoomFloor3', 'string'), ('RoomFloor2', 'string'), ('RoomArea2', 'string'), ('DiningRoomDescription', 'string'), ('BASEMENT', 'string'), ('BathsFull', 'int'), ('BathsHalf', 'int'), ('BATHQUARTER', 'int'), ('BATHSTHREEQUARTER', 'int'), ('Class', 'string'), ('BATHSTOTAL', 'int'), ('BATHDESC', 'string'), ('RoomArea5', 'string'), ('RoomFloor5', 'string'), ('RoomArea6', 'string'), ('RoomFloor6', 'string'), ('RoomArea7', 'string'), ('RoomFloor7', 'string'), ('RoomArea8', 'string'), ('RoomFloor8', 'string'), ('Bedrooms', 'int'), ('SQFTBELOWGROUND', 'int'), ('AssumableMortgage', 'string'), ('AssociationFee', 'int'), ('ASSESSMENTPENDING', 'string'), ('AssessedValuation', 'double')]\n"
     ]
    }
   ],
   "source": [
    "df_type_lists = real_estate.dtypes\n",
    "print(df_type_lists)"
   ]
  },
  {
   "cell_type": "code",
   "execution_count": 40,
   "id": "8b4e38c1",
   "metadata": {},
   "outputs": [
    {
     "name": "stdout",
     "output_type": "stream",
     "text": [
      "ZONING: 데이터 타입 일치\n",
      "RoomArea6: 데이터 타입 일치\n",
      "AssociationFee: 데이터 타입 일치\n",
      "AssessedValuation: 데이터 타입 불일치\n",
      "double\n"
     ]
    }
   ],
   "source": [
    "# 테이블 정의서에 기록되어 있는 데이터 타입\n",
    "\n",
    "validation_dict = {\n",
    "    'AssociationFee' : 'int',\n",
    "    'ZONING' : 'string',\n",
    "    'RoomArea6' : 'string',\n",
    "    'AssessedValuation' : 'string'\n",
    "}\n",
    "\n",
    "for df_type in df_type_lists:\n",
    "    # print(df_type)\n",
    "    \n",
    "    # 데이터 타입을 검증\n",
    "    column_name = df_type[0]\n",
    "    \n",
    "    if column_name in validation_dict:\n",
    "        # print(column_name)\n",
    "        \n",
    "        # 비교\n",
    "        column_type = df_type[1]\n",
    "        if column_type == validation_dict[column_name]:\n",
    "            print(column_name + \": 데이터 타입 일치\")\n",
    "        else:\n",
    "            print(column_name + \": 데이터 타입 불일치\")\n",
    "            print(column_type)"
   ]
  },
  {
   "cell_type": "code",
   "execution_count": 41,
   "id": "4afa124f",
   "metadata": {},
   "outputs": [
    {
     "name": "stdout",
     "output_type": "stream",
     "text": [
      "FOUNDATIONSIZE 0.6152231695664402\n",
      "DAYSONMARKET 0.10140339667725148\n",
      "Fireplaces 0.5750292168651635\n",
      "PDOM 0.06577733329086234\n",
      "SQFTABOVEGROUND 0.7901878498502957\n",
      "Taxes 0.04330623090283576\n",
      "----------\n",
      "SQFTABOVEGROUND 0.7901878498502957\n"
     ]
    }
   ],
   "source": [
    "col_names = ['FOUNDATIONSIZE', 'DAYSONMARKET', 'Fireplaces', 'PDOM', 'SQFTABOVEGROUND', 'Taxes']\n",
    "\n",
    "# 상관관계 최대갓 정의\n",
    "corr_max = 0\n",
    "corr_max_col = col_names[0]\n",
    "\n",
    "# 상관관계 구하기\n",
    "for col in col_names:\n",
    "    \n",
    "    \n",
    "    # 종속변수 기준으로 상관관계가 가장 큰 변수 구하기\n",
    "    # 스파크 데이터프레임\n",
    "    # 데이터 엔지니어(실시간 데이터 처리)\n",
    "    #\n",
    "    corr_val = real_estate.corr('SalesClosePrice', col)\n",
    "    print(col, corr_val)\n",
    "   \n",
    "    if corr_val > corr_max:\n",
    "        \n",
    "        corr_max = corr_val\n",
    "        corr_max_col = col\n",
    "\n",
    "print(\"-----\" * 2)\n",
    "print(corr_max_col, corr_max)"
   ]
  },
  {
   "cell_type": "markdown",
   "id": "9c287660",
   "metadata": {},
   "source": [
    "## Pandas 데이터 프레임으로 변환"
   ]
  },
  {
   "cell_type": "code",
   "execution_count": 44,
   "id": "9b1d6876",
   "metadata": {},
   "outputs": [
    {
     "name": "stdout",
     "output_type": "stream",
     "text": [
      "+---------------+\n",
      "|SalesClosePrice|\n",
      "+---------------+\n",
      "|         265000|\n",
      "|         245000|\n",
      "|         254500|\n",
      "|         257500|\n",
      "|         274990|\n",
      "+---------------+\n",
      "only showing top 5 rows\n",
      "\n",
      "None\n",
      "2552\n"
     ]
    }
   ],
   "source": [
    "import pandas as pd\n",
    "import seaborn as sns\n",
    "import matplotlib.pyplot as plt\n",
    "\n",
    "sample_df = real_estate.select(['SalesClosePrice']).sample(False, 0.5, 42)\n",
    "print(sample_df.show(5))\n",
    "print(sample_df.count())"
   ]
  },
  {
   "cell_type": "code",
   "execution_count": 46,
   "id": "cf419858",
   "metadata": {},
   "outputs": [
    {
     "data": {
      "text/html": [
       "<div>\n",
       "<style scoped>\n",
       "    .dataframe tbody tr th:only-of-type {\n",
       "        vertical-align: middle;\n",
       "    }\n",
       "\n",
       "    .dataframe tbody tr th {\n",
       "        vertical-align: top;\n",
       "    }\n",
       "\n",
       "    .dataframe thead th {\n",
       "        text-align: right;\n",
       "    }\n",
       "</style>\n",
       "<table border=\"1\" class=\"dataframe\">\n",
       "  <thead>\n",
       "    <tr style=\"text-align: right;\">\n",
       "      <th></th>\n",
       "      <th>SalesClosePrice</th>\n",
       "    </tr>\n",
       "  </thead>\n",
       "  <tbody>\n",
       "    <tr>\n",
       "      <th>0</th>\n",
       "      <td>265000</td>\n",
       "    </tr>\n",
       "    <tr>\n",
       "      <th>1</th>\n",
       "      <td>245000</td>\n",
       "    </tr>\n",
       "    <tr>\n",
       "      <th>2</th>\n",
       "      <td>254500</td>\n",
       "    </tr>\n",
       "    <tr>\n",
       "      <th>3</th>\n",
       "      <td>257500</td>\n",
       "    </tr>\n",
       "    <tr>\n",
       "      <th>4</th>\n",
       "      <td>274990</td>\n",
       "    </tr>\n",
       "  </tbody>\n",
       "</table>\n",
       "</div>"
      ],
      "text/plain": [
       "   SalesClosePrice\n",
       "0           265000\n",
       "1           245000\n",
       "2           254500\n",
       "3           257500\n",
       "4           274990"
      ]
     },
     "execution_count": 46,
     "metadata": {},
     "output_type": "execute_result"
    }
   ],
   "source": [
    "pandas_df = sample_df.toPandas()\n",
    "pandas_df.head()"
   ]
  },
  {
   "cell_type": "code",
   "execution_count": 48,
   "id": "c6024939",
   "metadata": {},
   "outputs": [
    {
     "data": {
      "image/png": "[encoded data removed]",
      "text/plain": [
       "<Figure size 658.5x500 with 1 Axes>"
      ]
     },
     "metadata": {},
     "output_type": "display_data"
    }
   ],
   "source": [
    "# 그래프 작성\n",
    "sns.displot(pandas_df)\n",
    "plt.show()"
   ]
  },
  {
   "cell_type": "code",
   "execution_count": 49,
   "id": "0773556e",
   "metadata": {},
   "outputs": [
    {
     "data": {
      "image/png": "[encoded data removed]",
      "text/plain": [
       "<Figure size 500x500 with 1 Axes>"
      ]
     },
     "metadata": {},
     "output_type": "display_data"
    }
   ],
   "source": [
    "# 회귀 그래프 작성\n",
    "sample_df = real_estate.select(['SalesClosePrice', 'LIVINGAREA']).sample(False, 0.5, 42)\n",
    "\n",
    "# Convert to pandas dataframe\n",
    "pandas_df = sample_df.toPandas()\n",
    "\n",
    "# Linear model plot of pandas_df\n",
    "sns.lmplot(x='LIVINGAREA', y='SalesClosePrice', data=pandas_df)\n",
    "plt.show()"
   ]
  }
 ],
 "metadata": {
  "kernelspec": {
   "display_name": "Python 3 (ipykernel)",
   "language": "python",
   "name": "python3"
  },
  "language_info": {
   "codemirror_mode": {
    "name": "ipython",
    "version": 3
   },
   "file_extension": ".py",
   "mimetype": "text/x-python",
   "name": "python",
   "nbconvert_exporter": "python",
   "pygments_lexer": "ipython3",
   "version": "3.8.0"
  }
 },
 "nbformat": 4,
 "nbformat_minor": 5
}
